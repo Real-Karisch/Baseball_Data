{
 "metadata": {
  "language_info": {
   "codemirror_mode": {
    "name": "ipython",
    "version": 3
   },
   "file_extension": ".py",
   "mimetype": "text/x-python",
   "name": "python",
   "nbconvert_exporter": "python",
   "pygments_lexer": "ipython3",
   "version": "3.7.6-final"
  },
  "orig_nbformat": 2,
  "kernelspec": {
   "name": "python_defaultSpec_1600547272091",
   "display_name": "Python 3.7.6 64-bit ('base': conda)"
  }
 },
 "nbformat": 4,
 "nbformat_minor": 2,
 "cells": [
  {
   "cell_type": "code",
   "execution_count": 1,
   "metadata": {},
   "outputs": [],
   "source": [
    "import statsapi\n",
    "import psycopg2\n",
    "from baseball_data import generateGamePksFromDates"
   ]
  },
  {
   "cell_type": "code",
   "execution_count": 3,
   "metadata": {},
   "outputs": [],
   "source": [
    "pks2019 = generateGamePksFromDates('01/01/2019', '04/01/2019')"
   ]
  },
  {
   "cell_type": "code",
   "execution_count": 2,
   "metadata": {},
   "outputs": [],
   "source": [
    "test = statsapi.get('game', {'gamePk': 415239})\n",
    "gameInfo = test['gameData']['game']"
   ]
  },
  {
   "cell_type": "code",
   "execution_count": 3,
   "metadata": {},
   "outputs": [
    {
     "output_type": "execute_result",
     "data": {
      "text/plain": "{'pk': 415239,\n 'type': 'R',\n 'doubleHeader': 'N',\n 'id': '2015/08/04/bosmlb-nyamlb-1',\n 'gamedayType': 'P',\n 'tiebreaker': 'N',\n 'gameNumber': 1,\n 'calendarEventID': '14-415239-2015-08-04',\n 'season': '2015',\n 'seasonDisplay': '2015'}"
     },
     "metadata": {},
     "execution_count": 3
    }
   ],
   "source": [
    "gameInfo"
   ]
  },
  {
   "cell_type": "code",
   "execution_count": 4,
   "metadata": {},
   "outputs": [],
   "source": [
    "conn = psycopg2.connect(\n",
    "    host = \"localhost\",\n",
    "    database = \"suppliers\",\n",
    "    user = \"daddy\",\n",
    "    password = \"daddy\",\n",
    "    port = 5432\n",
    ")"
   ]
  },
  {
   "cell_type": "code",
   "execution_count": 5,
   "metadata": {},
   "outputs": [],
   "source": [
    "conn.close()"
   ]
  },
  {
   "cell_type": "code",
   "execution_count": null,
   "metadata": {},
   "outputs": [],
   "source": [
    "\"\"\"\n",
    "CREATE ROLE username WITH LOGIN PASSWORD 'quoted password';\n",
    "CREATE DATABASE databasename;\n",
    "GRANT ALL PRIVILEGES ON DATABASE databasename TO username;\n",
    "\"\"\""
   ]
  }
 ]
}