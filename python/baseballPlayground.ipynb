{
 "metadata": {
  "language_info": {
   "codemirror_mode": {
    "name": "ipython",
    "version": 3
   },
   "file_extension": ".py",
   "mimetype": "text/x-python",
   "name": "python",
   "nbconvert_exporter": "python",
   "pygments_lexer": "ipython3",
   "version": "3.7.6-final"
  },
  "orig_nbformat": 2,
  "kernelspec": {
   "name": "Python 3.7.6 64-bit ('base': conda)",
   "display_name": "Python 3.7.6 64-bit ('base': conda)",
   "metadata": {
    "interpreter": {
     "hash": "e7ad3e331d89125a35e1aa51e4cbfadb7339476d992231fff57158d187b2117c"
    }
   }
  }
 },
 "nbformat": 4,
 "nbformat_minor": 2,
 "cells": [
  {
   "cell_type": "code",
   "execution_count": 1,
   "metadata": {},
   "outputs": [],
   "source": [
    "import statsapi\n",
    "import psycopg2\n",
    "import re\n",
    "import time\n",
    "import datetime\n",
    "\n",
    "import pandas as pd\n",
    "import numpy as np\n",
    "\n",
    "from testGame import testGameJson\n",
    "from api2psqlPopulateFns import *\n",
    "from api2psqlSupporting import *"
   ]
  },
  {
   "cell_type": "code",
   "execution_count": 4,
   "metadata": {},
   "outputs": [
    {
     "output_type": "stream",
     "name": "stdout",
     "text": [
      "Working on  01/02/2015 to 02/01/2015\n",
      "Time taken on last pull:  0.0006875991821289062\n",
      "Working on  02/02/2015 to 03/01/2015\n",
      "Time taken on last pull:  8.984868288040161\n",
      "Working on  03/02/2015 to 04/01/2015\n",
      "Time taken on last pull:  4.875773668289185\n",
      "Working on  04/02/2015 to 05/01/2015\n",
      "Time taken on last pull:  4.059139251708984\n",
      "Working on  05/02/2015 to 06/01/2015\n",
      "Time taken on last pull:  61.17983841896057\n",
      "Working on  06/02/2015 to 07/01/2015\n",
      "Time taken on last pull:  846.0575549602509\n",
      "Working on  07/02/2015 to 08/01/2015\n",
      "Time taken on last pull:  1257.5632486343384\n",
      "Working on  08/02/2015 to 09/01/2015\n",
      "Time taken on last pull:  1535.557406425476\n",
      "Working on  09/02/2015 to 10/01/2015\n",
      "Time taken on last pull:  1423.2504179477692\n",
      "Working on  10/02/2015 to 11/01/2015\n",
      "Time taken on last pull:  278.71138763427734\n",
      "Working on  11/02/2015 to 12/01/2015\n",
      "Time taken on last pull:  4.067385673522949\n",
      "Working on  12/02/2015 to 01/01/2015\n",
      "Time taken on last pull:  4.144770383834839\n",
      "Error; start date:  12/02/2015 , end date:  01/01/2015 , sport:  11 , switching to daily pulls\n",
      "Error; start date:  12/02/2015 , end date:  01/01/2015 , sport:  12 , switching to daily pulls\n",
      "Error; start date:  12/02/2015 , end date:  01/01/2015 , sport:  13 , switching to daily pulls\n",
      "Error; start date:  12/02/2015 , end date:  01/01/2015 , sport:  14 , switching to daily pulls\n",
      "Error; start date:  12/02/2015 , end date:  01/01/2015 , sport:  15 , switching to daily pulls\n",
      "Error; start date:  12/02/2015 , end date:  01/01/2015 , sport:  16 , switching to daily pulls\n",
      "Error; start date:  12/02/2015 , end date:  01/01/2015 , sport:  5442 , switching to daily pulls\n"
     ]
    }
   ],
   "source": [
    "minorDriver(2015, conn)"
   ]
  },
  {
   "cell_type": "code",
   "execution_count": 4,
   "metadata": {},
   "outputs": [
    {
     "output_type": "stream",
     "name": "stdout",
     "text": [
      "Working on  01/02/2010 to 02/01/2010\n",
      "Time taken on last pull:  0.0002830028533935547\n",
      "Working on  02/02/2010 to 03/01/2010\n",
      "Time taken on last pull:  5.723656177520752\n",
      "Working on  03/02/2010 to 04/01/2010\n",
      "Time taken on last pull:  5.647491455078125\n",
      "Working on  04/02/2010 to 05/01/2010\n",
      "Time taken on last pull:  53.633195638656616\n",
      "Working on  05/02/2010 to 06/01/2010\n",
      "Time taken on last pull:  767.0995581150055\n",
      "Working on  06/02/2010 to 07/01/2010\n",
      "Time taken on last pull:  964.7426991462708\n",
      "Error; start date:  06/02/2010 , end date:  07/01/2010 , sport:  16 , switching to daily pulls\n",
      "Working on  07/02/2010 to 08/01/2010\n",
      "Time taken on last pull:  1006.6448256969452\n",
      "Error; start date:  07/02/2010 , end date:  08/01/2010 , sport:  16 , switching to daily pulls\n",
      "Working on  08/02/2010 to 09/01/2010\n",
      "Time taken on last pull:  1117.5129992961884\n",
      "Error; start date:  08/02/2010 , end date:  09/01/2010 , sport:  16 , switching to daily pulls\n",
      "Working on  09/02/2010 to 10/01/2010\n",
      "Time taken on last pull:  1024.5512290000916\n",
      "Working on  10/02/2010 to 11/01/2010\n",
      "Time taken on last pull:  258.8707754611969\n",
      "Working on  11/02/2010 to 12/01/2010\n",
      "Time taken on last pull:  4.406698942184448\n",
      "Working on  12/02/2010 to 01/01/2010\n",
      "Time taken on last pull:  4.324828386306763\n",
      "Error; start date:  12/02/2010 , end date:  01/01/2010 , sport:  11 , switching to daily pulls\n",
      "Error; start date:  12/02/2010 , end date:  01/01/2010 , sport:  12 , switching to daily pulls\n",
      "Error; start date:  12/02/2010 , end date:  01/01/2010 , sport:  13 , switching to daily pulls\n",
      "Error; start date:  12/02/2010 , end date:  01/01/2010 , sport:  14 , switching to daily pulls\n",
      "Error; start date:  12/02/2010 , end date:  01/01/2010 , sport:  15 , switching to daily pulls\n",
      "Error; start date:  12/02/2010 , end date:  01/01/2010 , sport:  16 , switching to daily pulls\n",
      "Error; start date:  12/02/2010 , end date:  01/01/2010 , sport:  5442 , switching to daily pulls\n",
      "Working on  01/02/2011 to 02/01/2011\n",
      "Time taken on last pull:  0.0005125999450683594\n",
      "Working on  02/02/2011 to 03/01/2011\n",
      "Time taken on last pull:  6.637052774429321\n",
      "Working on  03/02/2011 to 04/01/2011\n",
      "Time taken on last pull:  4.446347713470459\n",
      "Working on  04/02/2011 to 05/01/2011\n",
      "Time taken on last pull:  43.766814947128296\n",
      "Working on  05/02/2011 to 06/01/2011\n",
      "Time taken on last pull:  749.015065908432\n",
      "Working on  06/02/2011 to 07/01/2011\n",
      "Time taken on last pull:  906.7542417049408\n",
      "Error; start date:  06/02/2011 , end date:  07/01/2011 , sport:  16 , switching to daily pulls\n",
      "Working on  07/02/2011 to 08/01/2011\n",
      "Time taken on last pull:  995.2245342731476\n",
      "Error; start date:  07/02/2011 , end date:  08/01/2011 , sport:  11 , switching to daily pulls\n",
      "Error; start date:  07/02/2011 , end date:  08/01/2011 , sport:  16 , switching to daily pulls\n",
      "Working on  08/02/2011 to 09/01/2011\n",
      "Time taken on last pull:  888.198192358017\n",
      "Error; start date:  08/02/2011 , end date:  09/01/2011 , sport:  16 , switching to daily pulls\n",
      "Working on  09/02/2011 to 10/01/2011\n",
      "Time taken on last pull:  1082.8337123394012\n",
      "Error; start date:  09/02/2011 , end date:  10/01/2011 , sport:  12 , switching to daily pulls\n",
      "Working on  10/02/2011 to 11/01/2011\n",
      "Time taken on last pull:  176.00037121772766\n",
      "Working on  11/02/2011 to 12/01/2011\n",
      "Time taken on last pull:  4.172819375991821\n",
      "Working on  12/02/2011 to 01/01/2011\n",
      "Time taken on last pull:  4.6227874755859375\n",
      "Error; start date:  12/02/2011 , end date:  01/01/2011 , sport:  11 , switching to daily pulls\n",
      "Error; start date:  12/02/2011 , end date:  01/01/2011 , sport:  12 , switching to daily pulls\n",
      "Error; start date:  12/02/2011 , end date:  01/01/2011 , sport:  13 , switching to daily pulls\n",
      "Error; start date:  12/02/2011 , end date:  01/01/2011 , sport:  14 , switching to daily pulls\n",
      "Error; start date:  12/02/2011 , end date:  01/01/2011 , sport:  15 , switching to daily pulls\n",
      "Error; start date:  12/02/2011 , end date:  01/01/2011 , sport:  16 , switching to daily pulls\n",
      "Error; start date:  12/02/2011 , end date:  01/01/2011 , sport:  5442 , switching to daily pulls\n",
      "Working on  01/02/2012 to 02/01/2012\n",
      "Time taken on last pull:  0.0002474784851074219\n",
      "Working on  02/02/2012 to 03/01/2012\n",
      "Time taken on last pull:  6.267240524291992\n",
      "Working on  03/02/2012 to 04/01/2012\n",
      "Time taken on last pull:  5.308964252471924\n",
      "Working on  04/02/2012 to 05/01/2012\n",
      "Time taken on last pull:  65.08570647239685\n",
      "Error; start date:  04/02/2012 , end date:  05/01/2012 , sport:  11 , switching to daily pulls\n",
      "Working on  05/02/2012 to 06/01/2012\n",
      "Time taken on last pull:  698.0595676898956\n",
      "Error; start date:  05/02/2012 , end date:  06/01/2012 , sport:  11 , switching to daily pulls\n",
      "Working on  06/02/2012 to 07/01/2012\n",
      "Time taken on last pull:  855.6019196510315\n",
      "Error; start date:  06/02/2012 , end date:  07/01/2012 , sport:  11 , switching to daily pulls\n",
      "Error; start date:  06/02/2012 , end date:  07/01/2012 , sport:  16 , switching to daily pulls\n",
      "Working on  07/02/2012 to 08/01/2012\n",
      "Time taken on last pull:  933.2936251163483\n",
      "Error; start date:  07/02/2012 , end date:  08/01/2012 , sport:  11 , switching to daily pulls\n",
      "Error; start date:  07/02/2012 , end date:  08/01/2012 , sport:  16 , switching to daily pulls\n",
      "Working on  08/02/2012 to 09/01/2012\n",
      "Time taken on last pull:  1108.895434141159\n",
      "Error; start date:  08/02/2012 , end date:  09/01/2012 , sport:  14 , switching to daily pulls\n",
      "Error; start date:  08/02/2012 , end date:  09/01/2012 , sport:  16 , switching to daily pulls\n",
      "Working on  09/02/2012 to 10/01/2012\n",
      "Time taken on last pull:  1122.5697846412659\n",
      "Working on  10/02/2012 to 11/01/2012\n",
      "Time taken on last pull:  162.90613102912903\n",
      "Working on  11/02/2012 to 12/01/2012\n",
      "Time taken on last pull:  3.913177013397217\n",
      "Working on  12/02/2012 to 01/01/2012\n",
      "Time taken on last pull:  3.8481616973876953\n",
      "Error; start date:  12/02/2012 , end date:  01/01/2012 , sport:  11 , switching to daily pulls\n",
      "Error; start date:  12/02/2012 , end date:  01/01/2012 , sport:  12 , switching to daily pulls\n",
      "Error; start date:  12/02/2012 , end date:  01/01/2012 , sport:  13 , switching to daily pulls\n",
      "Error; start date:  12/02/2012 , end date:  01/01/2012 , sport:  14 , switching to daily pulls\n",
      "Error; start date:  12/02/2012 , end date:  01/01/2012 , sport:  15 , switching to daily pulls\n",
      "Error; start date:  12/02/2012 , end date:  01/01/2012 , sport:  16 , switching to daily pulls\n",
      "Error; start date:  12/02/2012 , end date:  01/01/2012 , sport:  5442 , switching to daily pulls\n",
      "Working on  01/02/2013 to 02/01/2013\n",
      "Time taken on last pull:  0.0008649826049804688\n",
      "Working on  02/02/2013 to 03/01/2013\n",
      "Time taken on last pull:  5.537130832672119\n",
      "Working on  03/02/2013 to 04/01/2013\n",
      "Time taken on last pull:  4.715379953384399\n",
      "Working on  04/02/2013 to 05/01/2013\n",
      "Time taken on last pull:  41.50156021118164\n",
      "Error; start date:  04/02/2013 , end date:  05/01/2013 , sport:  11 , switching to daily pulls\n",
      "Working on  05/02/2013 to 06/01/2013\n",
      "Time taken on last pull:  735.11590051651\n",
      "Error; start date:  05/02/2013 , end date:  06/01/2013 , sport:  11 , switching to daily pulls\n",
      "Working on  06/02/2013 to 07/01/2013\n",
      "Time taken on last pull:  841.8183770179749\n",
      "Error; start date:  06/02/2013 , end date:  07/01/2013 , sport:  11 , switching to daily pulls\n",
      "Error; start date:  06/02/2013 , end date:  07/01/2013 , sport:  16 , switching to daily pulls\n",
      "Working on  07/02/2013 to 08/01/2013\n",
      "Time taken on last pull:  953.650758266449\n",
      "Error; start date:  07/02/2013 , end date:  08/01/2013 , sport:  11 , switching to daily pulls\n",
      "Error; start date:  07/02/2013 , end date:  08/01/2013 , sport:  16 , switching to daily pulls\n",
      "Working on  08/02/2013 to 09/01/2013\n",
      "Time taken on last pull:  1064.501033782959\n",
      "Error; start date:  08/02/2013 , end date:  09/01/2013 , sport:  16 , switching to daily pulls\n",
      "Working on  09/02/2013 to 10/01/2013\n",
      "Time taken on last pull:  1219.4466207027435\n",
      "Working on  10/02/2013 to 11/01/2013\n",
      "Time taken on last pull:  117.2168436050415\n",
      "Working on  11/02/2013 to 12/01/2013\n",
      "Time taken on last pull:  4.793361663818359\n",
      "Working on  12/02/2013 to 01/01/2013\n",
      "Time taken on last pull:  3.7810490131378174\n",
      "Error; start date:  12/02/2013 , end date:  01/01/2013 , sport:  11 , switching to daily pulls\n",
      "Error; start date:  12/02/2013 , end date:  01/01/2013 , sport:  12 , switching to daily pulls\n",
      "Error; start date:  12/02/2013 , end date:  01/01/2013 , sport:  13 , switching to daily pulls\n",
      "Error; start date:  12/02/2013 , end date:  01/01/2013 , sport:  14 , switching to daily pulls\n",
      "Error; start date:  12/02/2013 , end date:  01/01/2013 , sport:  15 , switching to daily pulls\n",
      "Error; start date:  12/02/2013 , end date:  01/01/2013 , sport:  16 , switching to daily pulls\n",
      "Error; start date:  12/02/2013 , end date:  01/01/2013 , sport:  5442 , switching to daily pulls\n",
      "Working on  01/02/2014 to 02/01/2014\n",
      "Time taken on last pull:  0.0009429454803466797\n",
      "Working on  02/02/2014 to 03/01/2014\n",
      "Time taken on last pull:  5.290329694747925\n",
      "Working on  03/02/2014 to 04/01/2014\n",
      "Time taken on last pull:  4.776458978652954\n",
      "Working on  04/02/2014 to 05/01/2014\n",
      "Time taken on last pull:  7.678709983825684\n",
      "Working on  05/02/2014 to 06/01/2014\n",
      "Time taken on last pull:  926.7511365413666\n",
      "Working on  06/02/2014 to 07/01/2014\n",
      "Time taken on last pull:  1036.4133043289185\n",
      "Error; start date:  06/02/2014 , end date:  07/01/2014 , sport:  16 , switching to daily pulls\n",
      "Working on  07/02/2014 to 08/01/2014\n",
      "Time taken on last pull:  1133.9868943691254\n",
      "Error; start date:  07/02/2014 , end date:  08/01/2014 , sport:  16 , switching to daily pulls\n",
      "Working on  08/02/2014 to 09/01/2014\n",
      "Time taken on last pull:  1286.8067953586578\n",
      "Error; start date:  08/02/2014 , end date:  09/01/2014 , sport:  16 , switching to daily pulls\n",
      "Working on  09/02/2014 to 10/01/2014\n",
      "Time taken on last pull:  1186.0121185779572\n",
      "Working on  10/02/2014 to 11/01/2014\n",
      "Time taken on last pull:  75.74413704872131\n",
      "Working on  11/02/2014 to 12/01/2014\n",
      "Time taken on last pull:  4.840129137039185\n",
      "Working on  12/02/2014 to 01/01/2014\n",
      "Time taken on last pull:  3.8080127239227295\n",
      "Error; start date:  12/02/2014 , end date:  01/01/2014 , sport:  11 , switching to daily pulls\n",
      "Error; start date:  12/02/2014 , end date:  01/01/2014 , sport:  12 , switching to daily pulls\n",
      "Error; start date:  12/02/2014 , end date:  01/01/2014 , sport:  13 , switching to daily pulls\n",
      "Error; start date:  12/02/2014 , end date:  01/01/2014 , sport:  14 , switching to daily pulls\n",
      "Error; start date:  12/02/2014 , end date:  01/01/2014 , sport:  15 , switching to daily pulls\n",
      "Error; start date:  12/02/2014 , end date:  01/01/2014 , sport:  16 , switching to daily pulls\n",
      "Error; start date:  12/02/2014 , end date:  01/01/2014 , sport:  5442 , switching to daily pulls\n"
     ]
    }
   ],
   "source": [
    "for year in range(2010, 2015):\n",
    "    minorDriver(year, conn)"
   ]
  },
  {
   "cell_type": "code",
   "execution_count": 2,
   "metadata": {},
   "outputs": [],
   "source": [
    "def strMonth(month):\n",
    "    if month < 10:\n",
    "        output = '0' + str(month)\n",
    "    elif month == 13:\n",
    "        output = '01'\n",
    "    else:\n",
    "        output = str(month)\n",
    "\n",
    "    return output\n",
    "\n",
    "def minorDriver(year, dbConnection):\n",
    "    start = time.time()\n",
    "    newMid = time.time()\n",
    "\n",
    "    month = 1\n",
    "\n",
    "    year = str(year)\n",
    "\n",
    "    for i in range(12):\n",
    "        activeStart = strMonth(month) + '/02/' + year\n",
    "        activeEnd = strMonth(month + 1) + '/01/' + year\n",
    "        print('Working on ', activeStart, 'to', activeEnd)\n",
    "        oldMid = newMid\n",
    "        newMid = time.time()\n",
    "        print('Time taken on last pull: ', newMid - oldMid)\n",
    "        updateMinorTablesMaster(dbConnection, activeStart, activeEnd)\n",
    "        \n",
    "        month += 1\n"
   ]
  },
  {
   "cell_type": "code",
   "execution_count": 3,
   "metadata": {},
   "outputs": [
    {
     "output_type": "stream",
     "name": "stdout",
     "text": [
      "2015\n7.442633310953776e-06\n"
     ]
    },
    {
     "output_type": "error",
     "ename": "HTTPError",
     "evalue": "530 Server Error:  for url: https://statsapi.mlb.com/api/v1.1/game/423968/feed/live",
     "traceback": [
      "\u001b[0;31m---------------------------------------------------------------------------\u001b[0m",
      "\u001b[0;31mHTTPError\u001b[0m                                 Traceback (most recent call last)",
      "\u001b[0;32m<ipython-input-3-b312762c7985>\u001b[0m in \u001b[0;36m<module>\u001b[0;34m\u001b[0m\n\u001b[1;32m      6\u001b[0m     \u001b[0mdateStart\u001b[0m \u001b[0;34m=\u001b[0m \u001b[0;34m'01/01/'\u001b[0m \u001b[0;34m+\u001b[0m \u001b[0mstr\u001b[0m\u001b[0;34m(\u001b[0m\u001b[0myear\u001b[0m\u001b[0;34m)\u001b[0m\u001b[0;34m\u001b[0m\u001b[0;34m\u001b[0m\u001b[0m\n\u001b[1;32m      7\u001b[0m     \u001b[0mdateEnd\u001b[0m \u001b[0;34m=\u001b[0m \u001b[0;34m'12/31/'\u001b[0m \u001b[0;34m+\u001b[0m \u001b[0mstr\u001b[0m\u001b[0;34m(\u001b[0m\u001b[0myear\u001b[0m\u001b[0;34m)\u001b[0m\u001b[0;34m\u001b[0m\u001b[0;34m\u001b[0m\u001b[0m\n\u001b[0;32m----> 8\u001b[0;31m     \u001b[0mupdateMinorTablesMaster\u001b[0m\u001b[0;34m(\u001b[0m\u001b[0mconn\u001b[0m\u001b[0;34m,\u001b[0m \u001b[0mdateStart\u001b[0m\u001b[0;34m,\u001b[0m \u001b[0mdateEnd\u001b[0m\u001b[0;34m)\u001b[0m\u001b[0;34m\u001b[0m\u001b[0;34m\u001b[0m\u001b[0m\n\u001b[0m\u001b[1;32m      9\u001b[0m \u001b[0mend\u001b[0m \u001b[0;34m=\u001b[0m \u001b[0mtime\u001b[0m\u001b[0;34m.\u001b[0m\u001b[0mtime\u001b[0m\u001b[0;34m(\u001b[0m\u001b[0;34m)\u001b[0m\u001b[0;34m\u001b[0m\u001b[0;34m\u001b[0m\u001b[0m\n",
      "\u001b[0;32m~/programming/projects/baseballData/python/api2psqlPopulateFns.py\u001b[0m in \u001b[0;36mupdateMinorTablesMaster\u001b[0;34m(dbConnection, startDate, endDate)\u001b[0m\n\u001b[1;32m    763\u001b[0m         \u001b[0mendDate\u001b[0m\u001b[0;34m,\u001b[0m\u001b[0;34m\u001b[0m\u001b[0;34m\u001b[0m\u001b[0m\n\u001b[1;32m    764\u001b[0m         \u001b[0mpathListListDictMinor\u001b[0m\u001b[0;34m,\u001b[0m\u001b[0;34m\u001b[0m\u001b[0;34m\u001b[0m\u001b[0m\n\u001b[0;32m--> 765\u001b[0;31m         \u001b[0mcommandDictMinor\u001b[0m\u001b[0;34m,\u001b[0m\u001b[0;34m\u001b[0m\u001b[0;34m\u001b[0m\u001b[0m\n\u001b[0m\u001b[1;32m    766\u001b[0m         \u001b[0mgamesPulled\u001b[0m\u001b[0;34m\u001b[0m\u001b[0;34m\u001b[0m\u001b[0m\n\u001b[1;32m    767\u001b[0m     )\n",
      "\u001b[0;32m~/programming/projects/baseballData/python/api2psqlPopulateFns.py\u001b[0m in \u001b[0;36mpopulateGamesTablesMaster\u001b[0;34m(dbConnection, schema, startDate, endDate, pathListListDict, commandDict, gamesPulled)\u001b[0m\n\u001b[1;32m    489\u001b[0m     \u001b[0;32mfor\u001b[0m \u001b[0mgamePk\u001b[0m \u001b[0;32min\u001b[0m \u001b[0mgamePks\u001b[0m\u001b[0;34m:\u001b[0m\u001b[0;34m\u001b[0m\u001b[0;34m\u001b[0m\u001b[0m\n\u001b[1;32m    490\u001b[0m         \u001b[0;32mif\u001b[0m \u001b[0mgamePk\u001b[0m \u001b[0;32mnot\u001b[0m \u001b[0;32min\u001b[0m \u001b[0mgamesPulled\u001b[0m\u001b[0;34m:\u001b[0m\u001b[0;34m\u001b[0m\u001b[0;34m\u001b[0m\u001b[0m\n\u001b[0;32m--> 491\u001b[0;31m             \u001b[0;32mtry\u001b[0m\u001b[0;34m:\u001b[0m\u001b[0;34m\u001b[0m\u001b[0;34m\u001b[0m\u001b[0m\n\u001b[0m\u001b[1;32m    492\u001b[0m                 \u001b[0mgame\u001b[0m \u001b[0;34m=\u001b[0m \u001b[0mstatsapi\u001b[0m\u001b[0;34m.\u001b[0m\u001b[0mget\u001b[0m\u001b[0;34m(\u001b[0m\u001b[0;34m'game'\u001b[0m\u001b[0;34m,\u001b[0m \u001b[0;34m{\u001b[0m\u001b[0;34m'gamePk'\u001b[0m\u001b[0;34m:\u001b[0m \u001b[0mgamePk\u001b[0m\u001b[0;34m}\u001b[0m\u001b[0;34m)\u001b[0m\u001b[0;34m\u001b[0m\u001b[0;34m\u001b[0m\u001b[0m\n\u001b[1;32m    493\u001b[0m             \u001b[0;32mexcept\u001b[0m \u001b[0mConnectionError\u001b[0m\u001b[0;34m:\u001b[0m\u001b[0;34m\u001b[0m\u001b[0;34m\u001b[0m\u001b[0m\n",
      "\u001b[0;32m~/anaconda3/lib/python3.7/site-packages/statsapi/__init__.py\u001b[0m in \u001b[0;36mget\u001b[0;34m(endpoint, params, force)\u001b[0m\n\u001b[1;32m   1642\u001b[0m     \u001b[0mr\u001b[0m \u001b[0;34m=\u001b[0m \u001b[0mrequests\u001b[0m\u001b[0;34m.\u001b[0m\u001b[0mget\u001b[0m\u001b[0;34m(\u001b[0m\u001b[0murl\u001b[0m\u001b[0;34m)\u001b[0m\u001b[0;34m\u001b[0m\u001b[0;34m\u001b[0m\u001b[0m\n\u001b[1;32m   1643\u001b[0m     \u001b[0;32mif\u001b[0m \u001b[0mr\u001b[0m\u001b[0;34m.\u001b[0m\u001b[0mstatus_code\u001b[0m \u001b[0;32mnot\u001b[0m \u001b[0;32min\u001b[0m \u001b[0;34m[\u001b[0m\u001b[0;36m200\u001b[0m\u001b[0;34m,\u001b[0m \u001b[0;36m201\u001b[0m\u001b[0;34m]\u001b[0m\u001b[0;34m:\u001b[0m\u001b[0;34m\u001b[0m\u001b[0;34m\u001b[0m\u001b[0m\n\u001b[0;32m-> 1644\u001b[0;31m         \u001b[0mr\u001b[0m\u001b[0;34m.\u001b[0m\u001b[0mraise_for_status\u001b[0m\u001b[0;34m(\u001b[0m\u001b[0;34m)\u001b[0m\u001b[0;34m\u001b[0m\u001b[0;34m\u001b[0m\u001b[0m\n\u001b[0m\u001b[1;32m   1645\u001b[0m     \u001b[0;32melse\u001b[0m\u001b[0;34m:\u001b[0m\u001b[0;34m\u001b[0m\u001b[0;34m\u001b[0m\u001b[0m\n\u001b[1;32m   1646\u001b[0m         \u001b[0;32mreturn\u001b[0m \u001b[0mr\u001b[0m\u001b[0;34m.\u001b[0m\u001b[0mjson\u001b[0m\u001b[0;34m(\u001b[0m\u001b[0;34m)\u001b[0m\u001b[0;34m\u001b[0m\u001b[0;34m\u001b[0m\u001b[0m\n",
      "\u001b[0;32m~/anaconda3/lib/python3.7/site-packages/requests/models.py\u001b[0m in \u001b[0;36mraise_for_status\u001b[0;34m(self)\u001b[0m\n\u001b[1;32m    938\u001b[0m \u001b[0;34m\u001b[0m\u001b[0m\n\u001b[1;32m    939\u001b[0m         \u001b[0;32mif\u001b[0m \u001b[0mhttp_error_msg\u001b[0m\u001b[0;34m:\u001b[0m\u001b[0;34m\u001b[0m\u001b[0;34m\u001b[0m\u001b[0m\n\u001b[0;32m--> 940\u001b[0;31m             \u001b[0;32mraise\u001b[0m \u001b[0mHTTPError\u001b[0m\u001b[0;34m(\u001b[0m\u001b[0mhttp_error_msg\u001b[0m\u001b[0;34m,\u001b[0m \u001b[0mresponse\u001b[0m\u001b[0;34m=\u001b[0m\u001b[0mself\u001b[0m\u001b[0;34m)\u001b[0m\u001b[0;34m\u001b[0m\u001b[0;34m\u001b[0m\u001b[0m\n\u001b[0m\u001b[1;32m    941\u001b[0m \u001b[0;34m\u001b[0m\u001b[0m\n\u001b[1;32m    942\u001b[0m     \u001b[0;32mdef\u001b[0m \u001b[0mclose\u001b[0m\u001b[0;34m(\u001b[0m\u001b[0mself\u001b[0m\u001b[0;34m)\u001b[0m\u001b[0;34m:\u001b[0m\u001b[0;34m\u001b[0m\u001b[0;34m\u001b[0m\u001b[0m\n",
      "\u001b[0;31mHTTPError\u001b[0m: 530 Server Error:  for url: https://statsapi.mlb.com/api/v1.1/game/423968/feed/live"
     ]
    }
   ],
   "source": [
    "start = time.time()\n",
    "year = '2015'\n",
    "for month in range(1, 13):\n",
    "    print(month)\n",
    "    mid = time.time()\n",
    "    print((mid - start) / 60)\n",
    "    dateStart = '01/' + str(month) + '/' + str(year)\n",
    "    dateEnd = '12/31/' + str(year)\n",
    "    updateMinorTablesMaster(conn, dateStart, dateEnd)\n",
    "end = time.time()"
   ]
  },
  {
   "cell_type": "code",
   "execution_count": 12,
   "metadata": {},
   "outputs": [],
   "source": [
    "conn = psycopg2.connect(\n",
    "    host = \"localhost\",\n",
    "    database = \"baseball\",\n",
    "    user = \"karisch\",\n",
    "    password = \"cocacola\",\n",
    "    port = 5432\n",
    ")"
   ]
  },
  {
   "cell_type": "code",
   "execution_count": 6,
   "metadata": {},
   "outputs": [],
   "source": [
    "conn.commit()\n",
    "conn.close()"
   ]
  },
  {
   "cell_type": "code",
   "execution_count": 5,
   "metadata": {},
   "outputs": [],
   "source": [
    "with conn.cursor() as cur:\n",
    "    cur.execute(\"\"\"SELECT P.* FROM pitches P INNER JOIN games G ON P.\"gamePk\"=G.pk WHERE G.season = 2019 AND G.type = 'R';\"\"\")\n",
    "    jack = cur.fetchall()"
   ]
  },
  {
   "cell_type": "code",
   "execution_count": 6,
   "metadata": {},
   "outputs": [],
   "source": [
    "cols = [\"gamePk\",\"atBatIndex\",\"pitchIndex\",\"callCode\",\"callDesc\",\"isInPlay\",\"isStrike\",\"isBall\",\"typeCode\",\"typeDesc\",\"hasReview\",\"countBalls\",\"countStrikes\",\"startSpeed\",\"endSpeed\",\"szTop\",\"szBottom\",\"aX\",\"aY\",\"aZ\",\"pfxX\",\"pfxZ\",\"pX\",\"pZ\",\"vX0\",\"vY0\",\"vZ0\",\"x\",\"y\",\"x0\",\"y0\",\"z0\",\"breakAngle\",\"breakLength\",\"breakY\",\"spinRate\",\"spinDirection\",\"zone\",\"typeConfidence\",\"plateTime\",\"extension\",\"pitchNumber\",\"launchSpeed\",\"launchAngle\",\"totalDistance\",\"trajectory\",\"hardness\",\"location\",\"coordX\",\"coordY\"]"
   ]
  },
  {
   "cell_type": "code",
   "execution_count": 7,
   "metadata": {},
   "outputs": [],
   "source": [
    "penis = pd.DataFrame(data=jack, columns = cols)"
   ]
  },
  {
   "cell_type": "code",
   "execution_count": 8,
   "metadata": {},
   "outputs": [
    {
     "output_type": "execute_result",
     "data": {
      "text/plain": [
       "(2429,)"
      ]
     },
     "metadata": {},
     "execution_count": 8
    }
   ],
   "source": [
    "penis['gamePk'].unique().shape"
   ]
  }
 ]
}