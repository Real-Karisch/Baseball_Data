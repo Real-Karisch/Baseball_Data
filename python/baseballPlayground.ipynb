{
 "metadata": {
  "language_info": {
   "codemirror_mode": {
    "name": "ipython",
    "version": 3
   },
   "file_extension": ".py",
   "mimetype": "text/x-python",
   "name": "python",
   "nbconvert_exporter": "python",
   "pygments_lexer": "ipython3",
   "version": "3.7.6-final"
  },
  "orig_nbformat": 2,
  "kernelspec": {
   "name": "Python 3.7.6 64-bit ('base': conda)",
   "display_name": "Python 3.7.6 64-bit ('base': conda)",
   "metadata": {
    "interpreter": {
     "hash": "e7ad3e331d89125a35e1aa51e4cbfadb7339476d992231fff57158d187b2117c"
    }
   }
  }
 },
 "nbformat": 4,
 "nbformat_minor": 2,
 "cells": [
  {
   "cell_type": "code",
   "execution_count": 1,
   "metadata": {},
   "outputs": [],
   "source": [
    "import statsapi\n",
    "import psycopg2\n",
    "from baseball_data import generateGamePksFromDates\n",
    "import time"
   ]
  },
  {
   "cell_type": "code",
   "execution_count": 2,
   "metadata": {},
   "outputs": [],
   "source": [
    "start = time.time()\n",
    "pks = generateGamePksFromDates('01/01/2019', '12/31/2019')\n",
    "end = time.time()"
   ]
  },
  {
   "cell_type": "code",
   "execution_count": 5,
   "metadata": {},
   "outputs": [],
   "source": [
    "jack = statsapi.get('divisions', {})"
   ]
  },
  {
   "cell_type": "code",
   "execution_count": 10,
   "metadata": {},
   "outputs": [
    {
     "output_type": "execute_result",
     "data": {
      "text/plain": "{&#39;id&#39;: 201,\n &#39;name&#39;: &#39;American League East&#39;,\n &#39;nameShort&#39;: &#39;AL East&#39;,\n &#39;link&#39;: &#39;/api/v1/divisions/201&#39;,\n &#39;abbreviation&#39;: &#39;ALE&#39;,\n &#39;league&#39;: {&#39;id&#39;: 103, &#39;link&#39;: &#39;/api/v1/league/103&#39;},\n &#39;sport&#39;: {&#39;id&#39;: 1, &#39;link&#39;: &#39;/api/v1/sports/1&#39;},\n &#39;hasWildcard&#39;: False,\n &#39;numPlayoffTeams&#39;: 2}"
     },
     "metadata": {},
     "execution_count": 10
    }
   ],
   "source": [
    "jack['divisions'][0]"
   ]
  },
  {
   "cell_type": "code",
   "execution_count": 17,
   "metadata": {
    "tags": []
   },
   "outputs": [
    {
     "output_type": "stream",
     "name": "stdout",
     "text": "568310\n568310\n"
    }
   ],
   "source": [
    "item = 'offensive_substitution'\n",
    "flag = False\n",
    "for i in pks:\n",
    "    try:\n",
    "        jack = statsapi.get('game', {'gamePk': i})\n",
    "    except HTTPError:\n",
    "        print('Error; pk = ', i)\n",
    "        pass\n",
    "\n",
    "    for j in jack['liveData']['plays']['allPlays']:\n",
    "        for k in j['playEvents']:\n",
    "            if 'eventType' in k['details'].keys():\n",
    "                if k['details']['eventType'] == item:\n",
    "                    print(i)\n",
    "                    kare = k\n",
    "                    flag = True\n",
    "                    break\n",
    "    if flag:\n",
    "        break\n"
   ]
  },
  {
   "cell_type": "code",
   "execution_count": 18,
   "metadata": {},
   "outputs": [
    {
     "output_type": "execute_result",
     "data": {
      "text/plain": "{&#39;details&#39;: {&#39;description&#39;: &#39;Offensive Substitution: Pinch-hitter Gregorio Petit replaces Dylan Cozens.  &#39;,\n  &#39;event&#39;: &#39;Offensive Substitution&#39;,\n  &#39;eventType&#39;: &#39;offensive_substitution&#39;,\n  &#39;awayScore&#39;: 3,\n  &#39;homeScore&#39;: 2,\n  &#39;isScoringPlay&#39;: False,\n  &#39;hasReview&#39;: False},\n &#39;count&#39;: {&#39;balls&#39;: 0, &#39;strikes&#39;: 0, &#39;outs&#39;: 0},\n &#39;index&#39;: 1,\n &#39;startTime&#39;: &#39;2019-02-22T20:40:08.496Z&#39;,\n &#39;endTime&#39;: &#39;2019-02-22T20:40:54.843Z&#39;,\n &#39;isPitch&#39;: False,\n &#39;type&#39;: &#39;action&#39;,\n &#39;player&#39;: {&#39;id&#39;: 463610, &#39;link&#39;: &#39;/api/v1/people/463610&#39;},\n &#39;position&#39;: {&#39;code&#39;: &#39;11&#39;,\n  &#39;name&#39;: &#39;Pinch Hitter&#39;,\n  &#39;type&#39;: &#39;Hitter&#39;,\n  &#39;abbreviation&#39;: &#39;PH&#39;},\n &#39;battingOrder&#39;: &#39;801&#39;}"
     },
     "metadata": {},
     "execution_count": 18
    }
   ],
   "source": [
    "kare"
   ]
  },
  {
   "cell_type": "code",
   "execution_count": 4,
   "metadata": {
    "tags": []
   },
   "outputs": [
    {
     "output_type": "stream",
     "name": "stdout",
     "text": "0\n250\n500\n750\n1000\n1250\n1500\n1750\n2000\n2250\n2500\n2750\n3000\n"
    }
   ],
   "source": [
    "start = time.time()\n",
    "eventTypeMaster = []\n",
    "cnt = 0\n",
    "for i in pks:\n",
    "    try:\n",
    "        jack = statsapi.get('game', {'gamePk': i})\n",
    "    except:\n",
    "        print('Error; pk = ', i)\n",
    "        pass\n",
    "    for j in jack['liveData']['plays']['allPlays']:\n",
    "        for k in j['playEvents']:\n",
    "            if 'eventType' in k['details'].keys():                \n",
    "                if k['details']['eventType'] not in eventTypeMaster:\n",
    "                    eventTypeMaster.append(k['details']['eventType'])\n",
    "    if cnt % 250 == 0:\n",
    "        print(cnt)\n",
    "    cnt += 1\n",
    "end = time.time()"
   ]
  },
  {
   "cell_type": "code",
   "execution_count": 5,
   "metadata": {},
   "outputs": [
    {
     "output_type": "execute_result",
     "data": {
      "text/plain": "['game_advisory',\n 'pitching_substitution',\n 'stolen_base_2b',\n 'defensive_substitution',\n 'defensive_switch',\n 'offensive_substitution',\n 'wild_pitch',\n 'stolen_base_3b',\n 'pickoff_error_1b',\n 'pickoff_1b',\n 'balk',\n 'caught_stealing_2b',\n 'passed_ball',\n 'caught_stealing_3b',\n 'pitcher_switch',\n 'defensive_indiff',\n 'pickoff_error_2b',\n 'pickoff_caught_stealing_2b',\n 'stolen_base_home',\n 'pickoff_caught_stealing_3b',\n 'other_out',\n 'injury',\n 'error',\n 'pickoff_error_3b',\n 'pickoff_3b',\n 'pickoff_2b',\n 'runner_placed',\n 'ejection',\n 'pickoff_caught_stealing_home',\n 'caught_stealing_home',\n 'umpire_substitution',\n 'other_advance']"
     },
     "metadata": {},
     "execution_count": 5
    }
   ],
   "source": [
    "eventTypeMaster"
   ]
  },
  {
   "cell_type": "code",
   "execution_count": 11,
   "metadata": {
    "tags": []
   },
   "outputs": [],
   "source": [
    "#jack = statsapi.get('sports_players', {'sportId': 1, 'season': 2020})\n",
    "#jack = statsapi.get('league', {'sportId': 1, 'leagueIds': 103})\n",
    "#jack = statsapi.get('teams', {'season': 2020})\n",
    "#jack = statsapi.get('venue', {'venueIds': 1})\n",
    "jack = statsapi.get('game', {'gamePk': 631188})"
   ]
  },
  {
   "cell_type": "code",
   "execution_count": null,
   "metadata": {},
   "outputs": [],
   "source": [
    "jack"
   ]
  },
  {
   "cell_type": "code",
   "execution_count": 15,
   "metadata": {},
   "outputs": [
    {
     "output_type": "execute_result",
     "data": {
      "text/plain": "{&#39;result&#39;: {&#39;type&#39;: &#39;atBat&#39;,\n  &#39;event&#39;: &#39;Strikeout&#39;,\n  &#39;eventType&#39;: &#39;strikeout&#39;,\n  &#39;description&#39;: &#39;Luke Voit strikes out swinging.  &#39;,\n  &#39;rbi&#39;: 0,\n  &#39;awayScore&#39;: 0,\n  &#39;homeScore&#39;: 0},\n &#39;about&#39;: {&#39;atBatIndex&#39;: 6,\n  &#39;halfInning&#39;: &#39;bottom&#39;,\n  &#39;isTopInning&#39;: False,\n  &#39;inning&#39;: 1,\n  &#39;startTime&#39;: &#39;2020-09-27T19:22:54.068Z&#39;,\n  &#39;endTime&#39;: &#39;2020-09-27T19:24:48.263Z&#39;,\n  &#39;isComplete&#39;: True,\n  &#39;isScoringPlay&#39;: False,\n  &#39;hasReview&#39;: False,\n  &#39;hasOut&#39;: True,\n  &#39;captivatingIndex&#39;: 14},\n &#39;count&#39;: {&#39;balls&#39;: 0, &#39;strikes&#39;: 3, &#39;outs&#39;: 2},\n &#39;matchup&#39;: {&#39;batter&#39;: {&#39;id&#39;: 572228,\n   &#39;fullName&#39;: &#39;Luke Voit&#39;,\n   &#39;link&#39;: &#39;/api/v1/people/572228&#39;},\n  &#39;batSide&#39;: {&#39;code&#39;: &#39;R&#39;, &#39;description&#39;: &#39;Right&#39;},\n  &#39;pitcher&#39;: {&#39;id&#39;: 570632,\n   &#39;fullName&#39;: &#39;Jose Urena&#39;,\n   &#39;link&#39;: &#39;/api/v1/people/570632&#39;},\n  &#39;pitchHand&#39;: {&#39;code&#39;: &#39;R&#39;, &#39;description&#39;: &#39;Right&#39;},\n  &#39;postOnSecond&#39;: {&#39;id&#39;: 543305,\n   &#39;fullName&#39;: &#39;Aaron Hicks&#39;,\n   &#39;link&#39;: &#39;/api/v1/people/543305&#39;},\n  &#39;postOnThird&#39;: {&#39;id&#39;: 518934,\n   &#39;fullName&#39;: &#39;DJ LeMahieu&#39;,\n   &#39;link&#39;: &#39;/api/v1/people/518934&#39;},\n  &#39;batterHotColdZones&#39;: [],\n  &#39;pitcherHotColdZones&#39;: [],\n  &#39;splits&#39;: {&#39;batter&#39;: &#39;vs_RHP&#39;, &#39;pitcher&#39;: &#39;vs_RHB&#39;, &#39;menOnBase&#39;: &#39;RISP&#39;}},\n &#39;pitchIndex&#39;: [0, 1, 2, 4],\n &#39;actionIndex&#39;: [3],\n &#39;runnerIndex&#39;: [0, 1],\n &#39;runners&#39;: [{&#39;movement&#39;: {&#39;start&#39;: &#39;1B&#39;,\n    &#39;end&#39;: &#39;2B&#39;,\n    &#39;outBase&#39;: None,\n    &#39;isOut&#39;: False,\n    &#39;outNumber&#39;: None},\n   &#39;details&#39;: {&#39;event&#39;: &#39;Stolen Base 2B&#39;,\n    &#39;eventType&#39;: &#39;stolen_base_2b&#39;,\n    &#39;movementReason&#39;: &#39;r_stolen_base_2b&#39;,\n    &#39;runner&#39;: {&#39;id&#39;: 543305,\n     &#39;fullName&#39;: &#39;Aaron Hicks&#39;,\n     &#39;link&#39;: &#39;/api/v1/people/543305&#39;},\n    &#39;responsiblePitcher&#39;: None,\n    &#39;isScoringEvent&#39;: False,\n    &#39;rbi&#39;: False,\n    &#39;earned&#39;: False,\n    &#39;teamUnearned&#39;: False,\n    &#39;playIndex&#39;: 3},\n   &#39;credits&#39;: []},\n  {&#39;movement&#39;: {&#39;start&#39;: None,\n    &#39;end&#39;: None,\n    &#39;outBase&#39;: &#39;1B&#39;,\n    &#39;isOut&#39;: True,\n    &#39;outNumber&#39;: 2},\n   &#39;details&#39;: {&#39;event&#39;: &#39;Strikeout&#39;,\n    &#39;eventType&#39;: &#39;strikeout&#39;,\n    &#39;movementReason&#39;: None,\n    &#39;runner&#39;: {&#39;id&#39;: 572228,\n     &#39;fullName&#39;: &#39;Luke Voit&#39;,\n     &#39;link&#39;: &#39;/api/v1/people/572228&#39;},\n    &#39;responsiblePitcher&#39;: None,\n    &#39;isScoringEvent&#39;: False,\n    &#39;rbi&#39;: False,\n    &#39;earned&#39;: False,\n    &#39;teamUnearned&#39;: False,\n    &#39;playIndex&#39;: 4},\n   &#39;credits&#39;: [{&#39;player&#39;: {&#39;id&#39;: 595453, &#39;link&#39;: &#39;/api/v1/people/595453&#39;},\n     &#39;position&#39;: {&#39;code&#39;: &#39;2&#39;,\n      &#39;name&#39;: &#39;Catcher&#39;,\n      &#39;type&#39;: &#39;Catcher&#39;,\n      &#39;abbreviation&#39;: &#39;C&#39;},\n     &#39;credit&#39;: &#39;f_putout&#39;}]}],\n &#39;playEvents&#39;: [{&#39;details&#39;: {&#39;call&#39;: {&#39;code&#39;: &#39;S&#39;,\n     &#39;description&#39;: &#39;Swinging Strike&#39;},\n    &#39;description&#39;: &#39;Swinging Strike&#39;,\n    &#39;code&#39;: &#39;S&#39;,\n    &#39;ballColor&#39;: &#39;rgba(170, 21, 11, 1.0)&#39;,\n    &#39;trailColor&#39;: &#39;rgba(50, 0, 221, 1.0)&#39;,\n    &#39;isInPlay&#39;: False,\n    &#39;isStrike&#39;: True,\n    &#39;isBall&#39;: False,\n    &#39;type&#39;: {&#39;code&#39;: &#39;SI&#39;, &#39;description&#39;: &#39;Sinker&#39;},\n    &#39;hasReview&#39;: False},\n   &#39;count&#39;: {&#39;balls&#39;: 0, &#39;strikes&#39;: 1},\n   &#39;pitchData&#39;: {&#39;startSpeed&#39;: 96.9,\n    &#39;endSpeed&#39;: 88.6,\n    &#39;strikeZoneTop&#39;: 3.47,\n    &#39;strikeZoneBottom&#39;: 1.66,\n    &#39;coordinates&#39;: {&#39;aY&#39;: 32.8,\n     &#39;aZ&#39;: -21.43,\n     &#39;pfxX&#39;: -8.01,\n     &#39;pfxZ&#39;: 5.36,\n     &#39;pX&#39;: -0.88,\n     &#39;pZ&#39;: 1.43,\n     &#39;vX0&#39;: 6.08,\n     &#39;vY0&#39;: -140.87,\n     &#39;vZ0&#39;: -7.32,\n     &#39;x&#39;: 150.68,\n     &#39;y&#39;: 200.06,\n     &#39;x0&#39;: -2.03,\n     &#39;y0&#39;: 50.0,\n     &#39;z0&#39;: 5.46,\n     &#39;aX&#39;: -16.05},\n    &#39;breaks&#39;: {&#39;breakAngle&#39;: 32.4,\n     &#39;breakLength&#39;: 6.0,\n     &#39;breakY&#39;: 24.0,\n     &#39;spinRate&#39;: 2219,\n     &#39;spinDirection&#39;: 219},\n    &#39;zone&#39;: 13,\n    &#39;typeConfidence&#39;: 2.0,\n    &#39;plateTime&#39;: 0.39,\n    &#39;extension&#39;: 6.51},\n   &#39;index&#39;: 0,\n   &#39;playId&#39;: &#39;0b6d32ec-d145-42e7-9bdc-e26bedccf2e9&#39;,\n   &#39;pitchNumber&#39;: 1,\n   &#39;startTime&#39;: &#39;2020-09-27T19:22:57.117Z&#39;,\n   &#39;endTime&#39;: &#39;2020-09-27T19:23:01.037Z&#39;,\n   &#39;isPitch&#39;: True,\n   &#39;type&#39;: &#39;pitch&#39;},\n  {&#39;details&#39;: {&#39;description&#39;: &#39;Pickoff Attempt 1B&#39;,\n    &#39;code&#39;: &#39;1&#39;,\n    &#39;hasReview&#39;: False,\n    &#39;fromCatcher&#39;: False},\n   &#39;count&#39;: {},\n   &#39;index&#39;: 1,\n   &#39;playId&#39;: &#39;dc6b6e96-5947-4f11-ac7d-300a227a40c1&#39;,\n   &#39;startTime&#39;: &#39;2020-09-27T19:23:16.425Z&#39;,\n   &#39;endTime&#39;: &#39;2020-09-27T19:23:20.443Z&#39;,\n   &#39;isPitch&#39;: False,\n   &#39;type&#39;: &#39;pickoff&#39;},\n  {&#39;details&#39;: {&#39;call&#39;: {&#39;code&#39;: &#39;S&#39;, &#39;description&#39;: &#39;Swinging Strike&#39;},\n    &#39;description&#39;: &#39;Swinging Strike&#39;,\n    &#39;code&#39;: &#39;S&#39;,\n    &#39;ballColor&#39;: &#39;rgba(170, 21, 11, 1.0)&#39;,\n    &#39;trailColor&#39;: &#39;rgba(0, 0, 254, 1.0)&#39;,\n    &#39;isInPlay&#39;: False,\n    &#39;isStrike&#39;: True,\n    &#39;isBall&#39;: False,\n    &#39;type&#39;: {&#39;code&#39;: &#39;SL&#39;, &#39;description&#39;: &#39;Slider&#39;},\n    &#39;hasReview&#39;: False,\n    &#39;runnerGoing&#39;: True},\n   &#39;count&#39;: {&#39;balls&#39;: 0, &#39;strikes&#39;: 2},\n   &#39;pitchData&#39;: {&#39;startSpeed&#39;: 87.0,\n    &#39;endSpeed&#39;: 80.4,\n    &#39;strikeZoneTop&#39;: 3.47,\n    &#39;strikeZoneBottom&#39;: 1.66,\n    &#39;coordinates&#39;: {&#39;aY&#39;: 24.27,\n     &#39;aZ&#39;: -28.78,\n     &#39;pfxX&#39;: 1.59,\n     &#39;pfxZ&#39;: 2.07,\n     &#39;pX&#39;: 0.35,\n     &#39;pZ&#39;: 2.51,\n     &#39;vX0&#39;: 4.87,\n     &#39;vY0&#39;: -126.66,\n     &#39;vZ0&#39;: -2.26,\n     &#39;x&#39;: 103.49,\n     &#39;y&#39;: 171.04,\n     &#39;x0&#39;: -1.8,\n     &#39;y0&#39;: 50.0,\n     &#39;z0&#39;: 5.7,\n     &#39;aX&#39;: 2.6},\n    &#39;breaks&#39;: {&#39;breakAngle&#39;: 7.2,\n     &#39;breakLength&#39;: 7.2,\n     &#39;breakY&#39;: 24.0,\n     &#39;spinRate&#39;: 2411,\n     &#39;spinDirection&#39;: 172},\n    &#39;zone&#39;: 6,\n    &#39;typeConfidence&#39;: 2.0,\n    &#39;plateTime&#39;: 0.43,\n    &#39;extension&#39;: 6.27},\n   &#39;index&#39;: 2,\n   &#39;playId&#39;: &#39;c8be896f-5c52-4a5b-8455-4f6a2a7ba636&#39;,\n   &#39;pitchNumber&#39;: 2,\n   &#39;startTime&#39;: &#39;2020-09-27T19:23:34.435Z&#39;,\n   &#39;endTime&#39;: &#39;2020-09-27T19:23:40.904Z&#39;,\n   &#39;isPitch&#39;: True,\n   &#39;type&#39;: &#39;pitch&#39;},\n  {&#39;details&#39;: {&#39;description&#39;: &#39;Aaron Hicks steals (4) 2nd base.  &#39;,\n    &#39;event&#39;: &#39;Stolen Base 2B&#39;,\n    &#39;eventType&#39;: &#39;stolen_base_2b&#39;,\n    &#39;awayScore&#39;: 0,\n    &#39;homeScore&#39;: 0,\n    &#39;isScoringPlay&#39;: False,\n    &#39;hasReview&#39;: False},\n   &#39;count&#39;: {&#39;balls&#39;: 0, &#39;strikes&#39;: 2, &#39;outs&#39;: 1},\n   &#39;index&#39;: 3,\n   &#39;actionPlayId&#39;: &#39;c8be896f-5c52-4a5b-8455-4f6a2a7ba636&#39;,\n   &#39;startTime&#39;: &#39;2020-09-27T19:23:51.304Z&#39;,\n   &#39;isPitch&#39;: False,\n   &#39;type&#39;: &#39;action&#39;,\n   &#39;player&#39;: {&#39;id&#39;: 543305, &#39;link&#39;: &#39;/api/v1/people/543305&#39;}},\n  {&#39;details&#39;: {&#39;call&#39;: {&#39;code&#39;: &#39;S&#39;, &#39;description&#39;: &#39;Swinging Strike&#39;},\n    &#39;description&#39;: &#39;Swinging Strike&#39;,\n    &#39;code&#39;: &#39;S&#39;,\n    &#39;ballColor&#39;: &#39;rgba(170, 21, 11, 1.0)&#39;,\n    &#39;trailColor&#39;: &#39;rgba(0, 0, 254, 1.0)&#39;,\n    &#39;isInPlay&#39;: False,\n    &#39;isStrike&#39;: True,\n    &#39;isBall&#39;: False,\n    &#39;type&#39;: {&#39;code&#39;: &#39;SL&#39;, &#39;description&#39;: &#39;Slider&#39;},\n    &#39;hasReview&#39;: False},\n   &#39;count&#39;: {&#39;balls&#39;: 0, &#39;strikes&#39;: 3},\n   &#39;pitchData&#39;: {&#39;startSpeed&#39;: 85.6,\n    &#39;endSpeed&#39;: 78.7,\n    &#39;strikeZoneTop&#39;: 3.47,\n    &#39;strikeZoneBottom&#39;: 1.66,\n    &#39;coordinates&#39;: {&#39;aY&#39;: 26.25,\n     &#39;aZ&#39;: -31.73,\n     &#39;pfxX&#39;: 2.34,\n     &#39;pfxZ&#39;: 0.28,\n     &#39;pX&#39;: 1.07,\n     &#39;pZ&#39;: 0.92,\n     &#39;vX0&#39;: 5.84,\n     &#39;vY0&#39;: -124.54,\n     &#39;vZ0&#39;: -4.96,\n     &#39;x&#39;: 76.31,\n     &#39;y&#39;: 213.81,\n     &#39;x0&#39;: -1.62,\n     &#39;y0&#39;: 50.0,\n     &#39;z0&#39;: 5.58,\n     &#39;aX&#39;: 3.66},\n    &#39;breaks&#39;: {&#39;breakAngle&#39;: 8.4,\n     &#39;breakLength&#39;: 8.4,\n     &#39;breakY&#39;: 24.0,\n     &#39;spinRate&#39;: 2482,\n     &#39;spinDirection&#39;: 120},\n    &#39;zone&#39;: 14,\n    &#39;typeConfidence&#39;: 2.0,\n    &#39;plateTime&#39;: 0.44,\n    &#39;extension&#39;: 6.31},\n   &#39;index&#39;: 4,\n   &#39;playId&#39;: &#39;0f3e8776-9beb-4269-b77b-3f9c5c2d2019&#39;,\n   &#39;pitchNumber&#39;: 3,\n   &#39;startTime&#39;: &#39;2020-09-27T19:24:40.805Z&#39;,\n   &#39;endTime&#39;: &#39;2020-09-27T19:24:48.263Z&#39;,\n   &#39;isPitch&#39;: True,\n   &#39;type&#39;: &#39;pitch&#39;}],\n &#39;atBatIndex&#39;: 6,\n &#39;playEndTime&#39;: &#39;2020-09-27T19:24:48.263Z&#39;}"
     },
     "metadata": {},
     "execution_count": 15
    }
   ],
   "source": [
    "jack['liveData']['plays']['allPlays'][6]"
   ]
  },
  {
   "cell_type": "code",
   "execution_count": null,
   "metadata": {},
   "outputs": [],
   "source": [
    "mlbVenues = []\n",
    "allVenues = []\n",
    "for i in range(2000, 2021):\n",
    "    penis = statsapi.get('teams', {'season': i})\n",
    "    for j in penis['teams']:\n",
    "        if 'sport' in j.keys():\n",
    "            if j['sport']['id'] == 1 and j['venue']['id'] not in mlbVenues:\n",
    "                mlbVenues.append(j['venue']['id'])\n",
    "        if j['id'] not in allVenues:\n",
    "            allVenues.append(j['id'])"
   ]
  },
  {
   "cell_type": "code",
   "execution_count": 23,
   "metadata": {},
   "outputs": [],
   "source": [
    "conn = psycopg2.connect(\n",
    "    host = \"localhost\",\n",
    "    database = \"test\",\n",
    "    user = \"karisch\",\n",
    "    password = \"cocacola\",\n",
    "    port = 5432\n",
    ")\n",
    "#conn.autocommit = True"
   ]
  },
  {
   "cell_type": "code",
   "execution_count": 24,
   "metadata": {},
   "outputs": [],
   "source": [
    "cur = conn.cursor()"
   ]
  },
  {
   "cell_type": "code",
   "execution_count": null,
   "metadata": {},
   "outputs": [],
   "source": [
    "def populateVenue():\n",
    "    "
   ]
  },
  {
   "cell_type": "code",
   "execution_count": 8,
   "metadata": {},
   "outputs": [],
   "source": [
    "cur.execute(\"INSERT INTO penis(jack, kare) VALUES(%s, %s)\", (69422, \"cukyboi\"))"
   ]
  },
  {
   "cell_type": "code",
   "execution_count": 14,
   "metadata": {},
   "outputs": [],
   "source": [
    "cur.execute(\"\"\"\n",
    "CREATE TABLE penisTwo (\n",
    "    col1 INT PRIMARY KEY,\n",
    "    col2 VARCHAR (50)\n",
    ");\n",
    "\"\"\"\n",
    ")"
   ]
  },
  {
   "cell_type": "code",
   "execution_count": 15,
   "metadata": {},
   "outputs": [],
   "source": [
    "cur.execute(\"\"\"\n",
    "CREATE TABLE penis3 (\n",
    "    id INT,\n",
    "    str VARCHAR (50) PRIMARY KEY\n",
    ");\n",
    "\"\"\"\n",
    ")"
   ]
  },
  {
   "cell_type": "code",
   "execution_count": 16,
   "metadata": {},
   "outputs": [],
   "source": [
    "cur.execute(\"\"\"\n",
    "ALTER TABLE penisTwo\n",
    "ADD str VARCHAR (50);\n",
    "\"\"\"\n",
    ")"
   ]
  },
  {
   "cell_type": "code",
   "execution_count": 25,
   "metadata": {},
   "outputs": [],
   "source": [
    "cur.execute(\"\"\"\n",
    "ALTER TABLE penisTwo\n",
    "ADD CONSTRAINT fkPenisTwo\n",
    "FOREIGN KEY (str)\n",
    "REFERENCES penis3 (str);\n",
    "\"\"\"\n",
    ")"
   ]
  },
  {
   "cell_type": "code",
   "execution_count": null,
   "metadata": {},
   "outputs": [],
   "source": [
    "cur.execute(\"INSERT INTO penis3(\")"
   ]
  },
  {
   "cell_type": "code",
   "execution_count": 26,
   "metadata": {},
   "outputs": [
    {
     "output_type": "execute_result",
     "data": {
      "text/plain": "[]"
     },
     "metadata": {},
     "execution_count": 26
    }
   ],
   "source": [
    "cur.execute(\"SELECT * FROM penis3;\")\n",
    "cur.fetchall()"
   ]
  },
  {
   "cell_type": "code",
   "execution_count": 22,
   "metadata": {},
   "outputs": [],
   "source": [
    "conn.commit()\n",
    "cur.close()\n",
    "conn.close()"
   ]
  },
  {
   "cell_type": "code",
   "execution_count": null,
   "metadata": {},
   "outputs": [],
   "source": [
    "\"\"\"\n",
    "CREATE ROLE username WITH LOGIN PASSWORD 'quoted password';\n",
    "CREATE DATABASE databasename;\n",
    "GRANT ALL PRIVILEGES ON DATABASE databasename TO username;\n",
    "\"\"\""
   ]
  }
 ]
}