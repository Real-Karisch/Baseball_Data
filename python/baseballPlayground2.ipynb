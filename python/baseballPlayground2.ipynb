{
 "metadata": {
  "language_info": {
   "codemirror_mode": {
    "name": "ipython",
    "version": 3
   },
   "file_extension": ".py",
   "mimetype": "text/x-python",
   "name": "python",
   "nbconvert_exporter": "python",
   "pygments_lexer": "ipython3",
   "version": "3.7.6-final"
  },
  "orig_nbformat": 2,
  "kernelspec": {
   "name": "Python 3.7.6 64-bit ('base': conda)",
   "display_name": "Python 3.7.6 64-bit ('base': conda)",
   "metadata": {
    "interpreter": {
     "hash": "e7ad3e331d89125a35e1aa51e4cbfadb7339476d992231fff57158d187b2117c"
    }
   }
  }
 },
 "nbformat": 4,
 "nbformat_minor": 2,
 "cells": [
  {
   "cell_type": "code",
   "execution_count": 1,
   "metadata": {},
   "outputs": [],
   "source": [
    "import statsapi\n",
    "import psycopg2\n",
    "from baseball_data import generateGamePksFromDates\n",
    "import psycopg2.extras\n",
    "import time\n",
    "from api2psql import *"
   ]
  },
  {
   "cell_type": "code",
   "execution_count": 3,
   "metadata": {},
   "outputs": [],
   "source": [
    "conn = psycopg2.connect(\n",
    "    host = \"localhost\",\n",
    "    database = \"baseball\",\n",
    "    user = \"karisch\",\n",
    "    password = \"cocacola\",\n",
    "    port = 5432\n",
    ")\n",
    "#conn.autocommit = True"
   ]
  },
  {
   "cell_type": "code",
   "execution_count": 5,
   "metadata": {},
   "outputs": [],
   "source": [
    "#conn.commit()\n",
    "conn.close()"
   ]
  },
  {
   "cell_type": "code",
   "execution_count": 4,
   "metadata": {},
   "outputs": [],
   "source": [
    "populateTeamTable(conn)"
   ]
  },
  {
   "cell_type": "code",
   "execution_count": 11,
   "metadata": {},
   "outputs": [
    {
     "output_type": "execute_result",
     "data": {
      "text/plain": [
       "{'id': 103,\n",
       " 'name': 'American League',\n",
       " 'link': '/api/v1/league/103',\n",
       " 'abbreviation': 'AL',\n",
       " 'nameShort': 'American',\n",
       " 'seasonState': 'postseason',\n",
       " 'hasWildCard': True,\n",
       " 'hasSplitSeason': False,\n",
       " 'numGames': 60,\n",
       " 'hasPlayoffPoints': False,\n",
       " 'numTeams': 15,\n",
       " 'numWildcardTeams': 2,\n",
       " 'seasonDateInfo': {'regularSeasonStartDate': '2020-07-23',\n",
       "  'regularSeasonEndDate': '2020-09-27',\n",
       "  'preSeasonStartDate': '2020-02-21',\n",
       "  'preSeasonEndDate': '2020-07-22',\n",
       "  'postSeasonStartDate': '2020-09-29',\n",
       "  'postSeasonEndDate': '2020-10-28',\n",
       "  'lastDate1stHalf': '2020-08-25',\n",
       "  'firstDate2ndHalf': '2020-08-26'},\n",
       " 'season': '2020',\n",
       " 'orgCode': 'AL',\n",
       " 'conferencesInUse': False,\n",
       " 'divisionsInUse': True,\n",
       " 'sport': {'id': 1, 'link': '/api/v1/sports/1'},\n",
       " 'sortOrder': 21}"
      ]
     },
     "metadata": {},
     "execution_count": 11
    }
   ],
   "source": [
    "jack = statsapi.get('league', {'sportId': 1})\n",
    "jack['leagues'][0]"
   ]
  },
  {
   "cell_type": "code",
   "execution_count": 9,
   "metadata": {},
   "outputs": [],
   "source": [
    "sports = statsapi.get('sports',{})['sports']\n",
    "\n",
    "args = []\n",
    "for sport in sports:\n",
    "    leagues = statsapi.get('league', {'sportId': sport})['leagues']\n",
    "    for league in leagues:\n",
    "        args.append(\n",
    "            (\n",
    "                dictTry(league, ['id']),\n",
    "                dictTry(league, ['name']),\n",
    "                dictTry(league, ['season']),\n",
    "            )\n",
    "        )"
   ]
  },
  {
   "cell_type": "code",
   "execution_count": 28,
   "metadata": {},
   "outputs": [],
   "source": [
    "jack = statsapi.get('sports', {})"
   ]
  },
  {
   "cell_type": "code",
   "execution_count": 29,
   "metadata": {},
   "outputs": [
    {
     "output_type": "execute_result",
     "data": {
      "text/plain": [
       "[{'id': 1,\n",
       "  'code': 'mlb',\n",
       "  'link': '/api/v1/sports/1',\n",
       "  'name': 'Major League Baseball',\n",
       "  'abbreviation': 'MLB',\n",
       "  'sortOrder': 11,\n",
       "  'activeStatus': True},\n",
       " {'id': 11,\n",
       "  'code': 'aaa',\n",
       "  'link': '/api/v1/sports/11',\n",
       "  'name': 'Triple-A',\n",
       "  'abbreviation': 'AAA',\n",
       "  'sortOrder': 101,\n",
       "  'activeStatus': True},\n",
       " {'id': 12,\n",
       "  'code': 'aax',\n",
       "  'link': '/api/v1/sports/12',\n",
       "  'name': 'Double-A',\n",
       "  'abbreviation': 'AA',\n",
       "  'sortOrder': 301,\n",
       "  'activeStatus': True},\n",
       " {'id': 13,\n",
       "  'code': 'afa',\n",
       "  'link': '/api/v1/sports/13',\n",
       "  'name': 'Class A Advanced',\n",
       "  'abbreviation': 'A(Adv)',\n",
       "  'sortOrder': 501,\n",
       "  'activeStatus': True},\n",
       " {'id': 14,\n",
       "  'code': 'afx',\n",
       "  'link': '/api/v1/sports/14',\n",
       "  'name': 'Class A',\n",
       "  'abbreviation': 'A(Full)',\n",
       "  'sortOrder': 701,\n",
       "  'activeStatus': True},\n",
       " {'id': 15,\n",
       "  'code': 'asx',\n",
       "  'link': '/api/v1/sports/15',\n",
       "  'name': 'Class A Short Season',\n",
       "  'abbreviation': 'A(Short)',\n",
       "  'sortOrder': 901,\n",
       "  'activeStatus': True},\n",
       " {'id': 5442,\n",
       "  'code': 'roa',\n",
       "  'link': '/api/v1/sports/5442',\n",
       "  'name': 'Rookie Advanced',\n",
       "  'abbreviation': 'ROA',\n",
       "  'sortOrder': 951,\n",
       "  'activeStatus': True},\n",
       " {'id': 16,\n",
       "  'code': 'rok',\n",
       "  'link': '/api/v1/sports/16',\n",
       "  'name': 'Rookie',\n",
       "  'abbreviation': 'ROK',\n",
       "  'sortOrder': 1127,\n",
       "  'activeStatus': True},\n",
       " {'id': 17,\n",
       "  'code': 'win',\n",
       "  'link': '/api/v1/sports/17',\n",
       "  'name': 'Winter Leagues',\n",
       "  'abbreviation': 'WIN',\n",
       "  'sortOrder': 1301,\n",
       "  'activeStatus': True},\n",
       " {'id': 8,\n",
       "  'code': 'bbl',\n",
       "  'link': '/api/v1/sports/8',\n",
       "  'name': 'Organized Baseball',\n",
       "  'abbreviation': 'Pros',\n",
       "  'sortOrder': 1401,\n",
       "  'activeStatus': True},\n",
       " {'id': 21,\n",
       "  'code': 'min',\n",
       "  'link': '/api/v1/sports/21',\n",
       "  'name': 'Minor League Baseball',\n",
       "  'abbreviation': 'Minors',\n",
       "  'sortOrder': 1402,\n",
       "  'activeStatus': True},\n",
       " {'id': 23,\n",
       "  'code': 'ind',\n",
       "  'link': '/api/v1/sports/23',\n",
       "  'name': 'Independent Leagues',\n",
       "  'abbreviation': 'IND',\n",
       "  'sortOrder': 2101,\n",
       "  'activeStatus': True},\n",
       " {'id': 31,\n",
       "  'code': 'jml',\n",
       "  'link': '/api/v1/sports/31',\n",
       "  'name': 'Japanese Major League Baseball',\n",
       "  'abbreviation': 'JML',\n",
       "  'sortOrder': 2701,\n",
       "  'activeStatus': True},\n",
       " {'id': 51,\n",
       "  'code': 'int',\n",
       "  'link': '/api/v1/sports/51',\n",
       "  'name': 'International Baseball',\n",
       "  'abbreviation': 'INT',\n",
       "  'sortOrder': 3501,\n",
       "  'activeStatus': True},\n",
       " {'id': 508,\n",
       "  'code': 'nat',\n",
       "  'link': '/api/v1/sports/508',\n",
       "  'name': 'International Baseball (Collegiate)',\n",
       "  'abbreviation': 'INTC',\n",
       "  'sortOrder': 3502,\n",
       "  'activeStatus': True},\n",
       " {'id': 509,\n",
       "  'code': 'nae',\n",
       "  'link': '/api/v1/sports/509',\n",
       "  'name': 'International Baseball (18 and under)',\n",
       "  'abbreviation': '18U',\n",
       "  'sortOrder': 3503,\n",
       "  'activeStatus': True},\n",
       " {'id': 600,\n",
       "  'code': 'nav',\n",
       "  'link': '/api/v1/sports/600',\n",
       "  'name': 'International Baseball (17 and under)',\n",
       "  'abbreviation': '17U',\n",
       "  'sortOrder': 3504,\n",
       "  'activeStatus': True},\n",
       " {'id': 510,\n",
       "  'code': 'nas',\n",
       "  'link': '/api/v1/sports/510',\n",
       "  'name': 'International Baseball (16 and under)',\n",
       "  'abbreviation': '16U',\n",
       "  'sortOrder': 3505,\n",
       "  'activeStatus': True},\n",
       " {'id': 512,\n",
       "  'code': 'naw',\n",
       "  'link': '/api/v1/sports/512',\n",
       "  'name': \"Women's Baseball\",\n",
       "  'abbreviation': 'WBB',\n",
       "  'sortOrder': 3509,\n",
       "  'activeStatus': True},\n",
       " {'id': 22,\n",
       "  'code': 'bbc',\n",
       "  'link': '/api/v1/sports/22',\n",
       "  'name': 'College Baseball',\n",
       "  'abbreviation': 'College',\n",
       "  'sortOrder': 5101,\n",
       "  'activeStatus': True},\n",
       " {'id': 586,\n",
       "  'code': 'hsb',\n",
       "  'link': '/api/v1/sports/586',\n",
       "  'name': 'High School Baseball',\n",
       "  'abbreviation': 'H.S.',\n",
       "  'sortOrder': 6201,\n",
       "  'activeStatus': True}]"
      ]
     },
     "metadata": {},
     "execution_count": 29
    }
   ],
   "source": [
    "jack['sports']"
   ]
  }
 ]
}