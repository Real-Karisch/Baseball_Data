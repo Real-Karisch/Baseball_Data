{
 "metadata": {
  "language_info": {
   "codemirror_mode": {
    "name": "ipython",
    "version": 3
   },
   "file_extension": ".py",
   "mimetype": "text/x-python",
   "name": "python",
   "nbconvert_exporter": "python",
   "pygments_lexer": "ipython3",
   "version": "3.7.6-final"
  },
  "orig_nbformat": 2,
  "kernelspec": {
   "name": "Python 3.7.6 64-bit ('anaconda3': virtualenv)",
   "display_name": "Python 3.7.6 64-bit ('anaconda3': virtualenv)",
   "metadata": {
    "interpreter": {
     "hash": "e7ad3e331d89125a35e1aa51e4cbfadb7339476d992231fff57158d187b2117c"
    }
   }
  }
 },
 "nbformat": 4,
 "nbformat_minor": 2,
 "cells": [
  {
   "cell_type": "code",
   "execution_count": 1,
   "metadata": {},
   "outputs": [],
   "source": [
    "import statsapi\n",
    "import psycopg2\n",
    "import re\n",
    "import time\n",
    "\n",
    "from testGame import testGameJson\n",
    "from api2psqlPopulateFns import *\n",
    "from api2psqlSupporting import *"
   ]
  },
  {
   "cell_type": "code",
   "execution_count": 2,
   "metadata": {},
   "outputs": [],
   "source": [
    "def updateMajorTablesMaster(dbConnection, startDate, endDate):\n",
    "    with dbConnection.cursor() as cur:\n",
    "        cur.execute(\"SELECT pk FROM major.games;\")\n",
    "        gamesPulled = [x[0] for x in cur.fetchall()]\n",
    "        cur.execute(\"\"\"SELECT \"seasonId\" FROM major.seasons;\"\"\")\n",
    "        seasonsPulled = [x[0] for x in cur.fetchall()]\n",
    "        cur.execute(\"\"\"SELECT id FROM major.players;\"\"\")\n",
    "        playersPulled = [x[0] for x in cur.fetchall()]\n",
    "\n",
    "    populatePlayerTable(dbConnection, startDate, endDate, playersPulled)\n",
    "    populateSeasonTable(dbConnection, startDate, endDate, seasonsPulled)\n",
    "    populateGamesTablesMaster(dbConnection, schema, startDate, endDate, pathListListDict, commandDict, gamesPulled)\n",
    "    \n",
    "    dbConnection.commit()"
   ]
  },
  {
   "cell_type": "code",
   "execution_count": 30,
   "metadata": {},
   "outputs": [],
   "source": [
    "with conn.cursor() as cur:\n",
    "    cur.execute(\"SELECT id, season FROM teams;\")\n",
    "    jack = cur.fetchall()"
   ]
  }
 ]
}