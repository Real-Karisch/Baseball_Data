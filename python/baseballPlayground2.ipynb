{
 "metadata": {
  "language_info": {
   "codemirror_mode": {
    "name": "ipython",
    "version": 3
   },
   "file_extension": ".py",
   "mimetype": "text/x-python",
   "name": "python",
   "nbconvert_exporter": "python",
   "pygments_lexer": "ipython3",
   "version": "3.7.6-final"
  },
  "orig_nbformat": 2,
  "kernelspec": {
   "name": "Python 3.7.6 64-bit ('base': conda)",
   "display_name": "Python 3.7.6 64-bit ('base': conda)",
   "metadata": {
    "interpreter": {
     "hash": "e7ad3e331d89125a35e1aa51e4cbfadb7339476d992231fff57158d187b2117c"
    }
   }
  }
 },
 "nbformat": 4,
 "nbformat_minor": 2,
 "cells": [
  {
   "cell_type": "code",
   "execution_count": 26,
   "metadata": {},
   "outputs": [],
   "source": [
    "import statsapi\n",
    "import psycopg2\n",
    "from baseball_data import generateGamePksFromDates\n",
    "import psycopg2.extras\n",
    "import time"
   ]
  },
  {
   "cell_type": "code",
   "execution_count": 21,
   "metadata": {},
   "outputs": [],
   "source": [
    "conn = psycopg2.connect(\n",
    "    host = \"localhost\",\n",
    "    database = \"baseball\",\n",
    "    user = \"karisch\",\n",
    "    password = \"cocacola\",\n",
    "    port = 5432\n",
    ")\n",
    "#conn.autocommit = True"
   ]
  },
  {
   "cell_type": "code",
   "execution_count": 28,
   "metadata": {},
   "outputs": [],
   "source": [
    "conn.commit()\n",
    "cur.close()\n",
    "conn.close()"
   ]
  },
  {
   "cell_type": "code",
   "execution_count": 3,
   "metadata": {},
   "outputs": [],
   "source": [
    "def populateVenueTable(dbConnection):\n",
    "    teams = statsapi.get('teams', {})\n",
    "\n",
    "    venueDict = {'venueIds': [], 'venueNames': []}\n",
    "    for team in teams['teams']:\n",
    "        activeVenue = team['venue']['id']\n",
    "        if activeVenue not in venueDict['venueIds']:\n",
    "            venueDict['venueIds'].append(team['venue']['id'])\n",
    "            venueDict['venueNames'].append(team['venue']['name'])\n",
    "\n",
    "    with dbConnection.cursor() as cur:\n",
    "        for i in range(len(venueDict['venueIds'])):\n",
    "            cur.execute(\n",
    "                \"\"\"\n",
    "                INSERT INTO venues(id, name)\n",
    "                    VALUES (%s, %s)\n",
    "                \"\"\",\n",
    "                (venueDict['venueIds'][i], venueDict['venueNames'][i])\n",
    "                )"
   ]
  },
  {
   "cell_type": "code",
   "execution_count": 4,
   "metadata": {},
   "outputs": [],
   "source": [
    "populateVenueTable(conn)"
   ]
  },
  {
   "cell_type": "code",
   "execution_count": 18,
   "metadata": {},
   "outputs": [],
   "source": [
    "teams = statsapi.get('teams', {})\n",
    "venueDict = {'venueIds': [], 'venueNames': []}\n",
    "manyList = []\n",
    "for team in teams['teams']:\n",
    "    activeVenue = team['venue']['id']\n",
    "    if activeVenue not in venueDict['venueIds']:\n",
    "        venueDict['venueIds'].append(team['venue']['id'])\n",
    "        venueDict['venueNames'].append(team['venue']['name'])\n",
    "        manyList.append((team['venue']['id'], team['venue']['name']))"
   ]
  },
  {
   "cell_type": "code",
   "execution_count": 22,
   "metadata": {},
   "outputs": [],
   "source": [
    "cur = conn.cursor()"
   ]
  },
  {
   "cell_type": "code",
   "execution_count": 19,
   "metadata": {},
   "outputs": [],
   "source": [
    "cur.executemany(\n",
    "    \"\"\"\n",
    "    INSERT INTO venues(id, name)\n",
    "        VALUES (%s, %s)\n",
    "    \"\"\",\n",
    "    manyList\n",
    ")"
   ]
  },
  {
   "cell_type": "code",
   "execution_count": 27,
   "metadata": {},
   "outputs": [],
   "source": [
    "psycopg2.extras.execute_batch(\n",
    "    cur,\n",
    "    \"\"\"\n",
    "    INSERT INTO venues(id, name)\n",
    "        VALUES (%s, %s)\n",
    "    \"\"\",\n",
    "    manyList\n",
    ")"
   ]
  }
 ]
}